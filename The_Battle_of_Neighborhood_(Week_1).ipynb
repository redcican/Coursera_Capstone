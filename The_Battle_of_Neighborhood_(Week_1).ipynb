{
  "nbformat": 4,
  "nbformat_minor": 0,
  "metadata": {
    "colab": {
      "name": "The Battle of Neighborhood (Week 1).ipynb",
      "version": "0.3.2",
      "provenance": [],
      "collapsed_sections": [],
      "include_colab_link": true
    },
    "kernelspec": {
      "name": "python3",
      "display_name": "Python 3"
    }
  },
  "cells": [
    {
      "cell_type": "markdown",
      "metadata": {
        "id": "view-in-github",
        "colab_type": "text"
      },
      "source": [
        "[View in Colaboratory](https://colab.research.google.com/github/redcican/Coursera_Capstone/blob/master/The_Battle_of_Neighborhood_(Week_1).ipynb)"
      ]
    },
    {
      "metadata": {
        "id": "eui6iusYmPf3",
        "colab_type": "text"
      },
      "cell_type": "markdown",
      "source": [
        "# IBM Coursera Final Project - The Battle of Neighborhoods - Week 1"
      ]
    },
    {
      "metadata": {
        "id": "WQFv8jBGmj4X",
        "colab_type": "text"
      },
      "cell_type": "markdown",
      "source": [
        "## 1. Project Description:  \n",
        "\n",
        "New York City and the city of Toronto are very diverse and are the financial captials of their respective countries. It would be very interesting to compare the neighborhood of the two cities based on the venues, and determine how similar or dissimilar they are.  \n",
        "\n",
        "![Toronto v.s. New York](https://www.narcity.com/uploads/b887ddcab416c7eae708e20538f75b9534e76169.png_facebook.png)\n",
        "\n",
        "\n"
      ]
    },
    {
      "metadata": {
        "id": "P9FjFMTtXaf3",
        "colab_type": "text"
      },
      "cell_type": "markdown",
      "source": [
        "New York and Toronto are two popular cities for big event. Usually people tend to explore the places before plan a new Event for their business ro start a new life and that invovles so many factor including neighborhood analysis. "
      ]
    },
    {
      "metadata": {
        "id": "LOHaOj6XX8wc",
        "colab_type": "text"
      },
      "cell_type": "markdown",
      "source": [
        "This Project takes this requirement as its main idea to help the people to compare these two cities, so as to help them spend their time and mony in some other productive means rather keep them trapped in an infinite loop of extensive search engines."
      ]
    },
    {
      "metadata": {
        "id": "4UCwOidrYS21",
        "colab_type": "text"
      },
      "cell_type": "markdown",
      "source": [
        "This Project would help people to have a intuitive picture of New York and Toronto based on the venues and the comparion of neighborhoods. As an example, this project would compare and analyse the top 10 most common venues in each of those neighbouhoods. Also, this project uses **K-means** clustering unsupervised machine learning algorithm to cluster the venues based on the place category such as restaurants, park, coffee shop, gym etc. This would give a better understanding of the similarities and dissimilarities between two cities."
      ]
    },
    {
      "metadata": {
        "id": "cp1k53oVZRQd",
        "colab_type": "text"
      },
      "cell_type": "markdown",
      "source": [
        "<br>"
      ]
    },
    {
      "metadata": {
        "id": "IUdi4vyWZaCT",
        "colab_type": "text"
      },
      "cell_type": "markdown",
      "source": [
        "## 2. Data Description:"
      ]
    },
    {
      "metadata": {
        "id": "mtMV3ZofZmje",
        "colab_type": "text"
      },
      "cell_type": "markdown",
      "source": [
        "### 2.1 Foursquare API:  \n",
        "\n",
        "This project would use Four-square API as its prime data gathering source as it has a database of more than 105 million places, especially their places API which provides the ability to perform location search, location sharing and details about a business. Photos, tips and reviews jolted by Foursquare users can also be used in many productive ways to add value to the results."
      ]
    },
    {
      "metadata": {
        "id": "xzYeW_kDZuct",
        "colab_type": "text"
      },
      "cell_type": "markdown",
      "source": [
        "### 2.2 Working Pipeline:"
      ]
    },
    {
      "metadata": {
        "id": "OJsgTqVRZxVs",
        "colab_type": "text"
      },
      "cell_type": "markdown",
      "source": [
        "HTTP requests would be made to this Foursquare API server using zip codes of the New York city and Toronto neighborhoods to pull the location information (Latitude and Longitude).\n",
        "\n",
        "Foursquare API search feature would be enabled to collect the nearby places of the neighborhoods. Due to http request limitations the number of places per neighborhood parameter would reasonably be set to 100 and the radius parameter would be set to 700.\n",
        "\n",
        "Folium- Python visualization library would be used to visualize the neighborhoods cluster distribution of two cities over an interactive leaflet map.\n",
        "\n",
        "Extensive comparative analysis of two randomly picked neighborhoods world be carried out to derive the desirable insights from the outcomes using python’s scientific libraries Pandas, NumPy and Scikit-learn.\n",
        "\n",
        "Unsupervised machine learning algorithm K-mean clustering would be applied to form the clusters of different categories of places residing in and around the neighborhoods. These clusters from each of those two chosen neighborhoods would be analyzed individually collectively and comparatively to derive the conclusions."
      ]
    },
    {
      "metadata": {
        "id": "mwsjMe-5aMlm",
        "colab_type": "text"
      },
      "cell_type": "markdown",
      "source": [
        "### 2.3 Python Libraries"
      ]
    },
    {
      "metadata": {
        "id": "MRq4qVkKaSLK",
        "colab_type": "text"
      },
      "cell_type": "markdown",
      "source": [
        "• Pandas - Library for Data Analysis \n",
        "\n",
        "• NumPy – Library to handle data in a vectorized manner\n",
        "\n",
        "• JSON – Library to handle JSON files\n",
        "\n",
        "• Geopy – To retrieve Location Data \n",
        "\n",
        "• Requests – Library to handle http requests\n",
        "\n",
        "• Matplotlib – Python Plotting Module\n",
        "\n",
        "• Sklearn – Python machine learning Library\n",
        "\n",
        "• Folium – Map rendering Library"
      ]
    },
    {
      "metadata": {
        "id": "4fStnhvcZQAN",
        "colab_type": "code",
        "colab": {}
      },
      "cell_type": "code",
      "source": [
        ""
      ],
      "execution_count": 0,
      "outputs": []
    }
  ]
}