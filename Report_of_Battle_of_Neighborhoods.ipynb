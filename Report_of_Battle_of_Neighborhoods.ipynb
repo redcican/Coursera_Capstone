{
  "nbformat": 4,
  "nbformat_minor": 0,
  "metadata": {
    "colab": {
      "name": "Report of Battle of Neighborhoods.ipynb",
      "version": "0.3.2",
      "provenance": [],
      "collapsed_sections": [],
      "include_colab_link": true
    },
    "kernelspec": {
      "name": "python3",
      "display_name": "Python 3"
    }
  },
  "cells": [
    {
      "cell_type": "markdown",
      "metadata": {
        "id": "view-in-github",
        "colab_type": "text"
      },
      "source": [
        "[View in Colaboratory](https://colab.research.google.com/github/redcican/Coursera_Capstone/blob/master/Report_of_Battle_of_Neighborhoods.ipynb)"
      ]
    },
    {
      "metadata": {
        "id": "UIO9RyI9yTQl",
        "colab_type": "text"
      },
      "cell_type": "markdown",
      "source": [
        "# Full Report of Capstone Project"
      ]
    },
    {
      "metadata": {
        "id": "OOR13qDDyYbf",
        "colab_type": "text"
      },
      "cell_type": "markdown",
      "source": [
        "This notebook aims to report the Capstone Project. It consists of the following components.  \n",
        "\n",
        "\n",
        "\n",
        "*   Introduction: The business probelm and who would be interested in this project.\n",
        "\n",
        "*   Data: were used to solve the problem and the source of the data.\n",
        "\n",
        "*   Methodology: The discussion and the description of any EDA that I did, and furthther approaches to use.\n",
        "\n",
        "*   Results\n",
        "\n",
        "*   Discussion: Disucssion of observatinos and the recommendations based on the results\n",
        "\n",
        "*   Conclusion\n",
        "\n"
      ]
    },
    {
      "metadata": {
        "id": "_G_5yq-Rzmu2",
        "colab_type": "text"
      },
      "cell_type": "markdown",
      "source": [
        "## 1. Introduction"
      ]
    },
    {
      "metadata": {
        "id": "k_rikjyozqO7",
        "colab_type": "text"
      },
      "cell_type": "markdown",
      "source": [
        "New York City and the city of Toronto are very diverse and are the financial captials of their respective countries. It would be very interesting to compare the neighborhood of the two cities based on the venues, and determine how similar or dissimilar they are.  \n",
        "\n"
      ]
    },
    {
      "metadata": {
        "id": "ldGCfbVEzwwv",
        "colab_type": "text"
      },
      "cell_type": "markdown",
      "source": [
        "New York and Toronto are two popular cities for big event. Usually people tend to explore the places before plan a new Event for their business ro start a new life and that invovles so many factor including neighborhood analysis.  \n",
        "\n",
        "<br>\n",
        "\n",
        " \n",
        "This Project takes this requirement as its main idea to help the people to compare these two cities, so as to help them spend their time and mony in some other productive means rather keep them trapped in an infinite loop of extensive search engines.  \n",
        "\n",
        "<br>\n",
        "\n",
        "\n",
        "This Project would help people to have a intuitive picture of New York and Toronto based on the venues and the comparion of neighborhoods. As an example, this project would compare and analyse the top 10 most common venues in each of those neighbouhoods. Also, this project uses K-means clustering unsupervised machine learning algorithm to cluster the venues based on the place category such as restaurants, park, coffee shop, gym etc. This would give a better understanding of the similarities and dissimilarities between two cities."
      ]
    },
    {
      "metadata": {
        "id": "17cJgB3-z9Ju",
        "colab_type": "text"
      },
      "cell_type": "markdown",
      "source": [
        "# 2. Data"
      ]
    },
    {
      "metadata": {
        "id": "AZ7WiZ-p0ACK",
        "colab_type": "text"
      },
      "cell_type": "markdown",
      "source": [
        "### 2.1 Foursquare API:  \n",
        "\n",
        "This project would use Four-square API as its prime data gathering source as it has a database of more than 105 million places, especially their places API which provides the ability to perform location search, location sharing and details about a business. Photos, tips and reviews jolted by Foursquare users can also be used in many productive ways to add value to the results."
      ]
    },
    {
      "metadata": {
        "id": "YuOMvlG-0FFh",
        "colab_type": "text"
      },
      "cell_type": "markdown",
      "source": [
        "### 2.2 Source Files:\n",
        "\n",
        "This project compares the two cities: New York and Toronto. The dataset of New York city will retrieve by Foursquare API, and the dataset of Toronto are prepared from the previous exercise, which will be imported from local disk. "
      ]
    },
    {
      "metadata": {
        "id": "AEyPguR61GJm",
        "colab_type": "text"
      },
      "cell_type": "markdown",
      "source": [
        "# 3. Methodology"
      ]
    },
    {
      "metadata": {
        "id": "JfQO3gsU1aLt",
        "colab_type": "text"
      },
      "cell_type": "markdown",
      "source": [
        "## 3.1 Work Flow"
      ]
    },
    {
      "metadata": {
        "id": "ihzWcX901KxK",
        "colab_type": "text"
      },
      "cell_type": "markdown",
      "source": [
        "HTTP requests would be made to this Foursquare API server using zip codes of the New York city and Toronto neighborhoods to pull the location information (Latitude and Longitude).\n",
        "\n",
        "Foursquare API search feature would be enabled to collect the nearby places of the neighborhoods. Due to http request limitations the number of places per neighborhood parameter would reasonably be set to 100 and the radius parameter would be set to 700.\n",
        "\n",
        "Folium- Python visualization library would be used to visualize the neighborhoods cluster distribution of two cities over an interactive leaflet map.\n",
        "\n",
        "Extensive comparative analysis of two cities world be carried out to derive the desirable insights from the venues using python’s scientific libraries Pandas, NumPy and Scikit-learn.\n",
        "\n",
        "Unsupervised machine learning algorithm K-mean clustering would be applied to form the clusters of different categories of places residing in and around the neighborhoods. These clusters from each of those two chosen neighborhoods would be analyzed individually collectively and comparatively to derive the conclusions."
      ]
    },
    {
      "metadata": {
        "id": "r2-e8OSJ1cVd",
        "colab_type": "text"
      },
      "cell_type": "markdown",
      "source": [
        "## 3.2 Main Python Libraries"
      ]
    },
    {
      "metadata": {
        "id": "mBnJdcho1hUO",
        "colab_type": "text"
      },
      "cell_type": "markdown",
      "source": [
        "• Pandas - Library for Data Analysis \n",
        "\n",
        "• NumPy – Library to handle data in a vectorized manner\n",
        "\n",
        "• JSON – Library to handle JSON files\n",
        "\n",
        "• Geopy – To retrieve Location Data \n",
        "\n",
        "• Requests – Library to handle http requests\n",
        "\n",
        "• Matplotlib – Python Plotting Module\n",
        "\n",
        "• Sklearn – Python machine learning Library\n",
        "\n",
        "• Folium – Map rendering Library"
      ]
    },
    {
      "metadata": {
        "id": "KgA5E4aO1oYO",
        "colab_type": "text"
      },
      "cell_type": "markdown",
      "source": [
        "# 4. Results"
      ]
    },
    {
      "metadata": {
        "id": "wMNlJvu31rf8",
        "colab_type": "text"
      },
      "cell_type": "markdown",
      "source": [
        "The Dataset of New York City consists of 5 Boroughs and 306 Neighborhoods, while the Dataset of Toronto City consists of 11 Boroughs and 103 Neighborhoods.  \n",
        "First, by using Foursquare API to extract the Venues of all Neighborhoods we found that for 306 Neighborhoods in New York City, there are **30362** different venues.  \n",
        "\n",
        "Meanwhile for the 103 Neighborhoods in Toronto City,  the number of different venues is **10187**. From this aspect, we can basically say that the **Scale** and   \n",
        "\n",
        "the **Contents** of New York City are much larger than Toronto City. \n",
        "\n",
        "Second, I compared the **Top 10** Venues in two cities. In New York City, 8 of 10 Venues are about **Catering**, and in the Toronto City, the number is exactly the  \n",
        "same as in New York. On the other hand, the number of every individual Venue in New York is much greater than in Toronto, Which basically means that if you plan  \n",
        "a event or want to move New York, you have more choices!  \n",
        "\n",
        "Thirdly, I visulized the Italian Restaurants of two cities in the area of central parts with a radius of 1000m. It turned out, the density and distribution of Italian Restaurants are quite similar in two cities.   \n",
        "\n",
        "Lastly, by using *K-Means* Clustering, the Neighborhood of two cities are clustered into 10 different groups, and the results were visualzed by using Folium. These  \n",
        "\n",
        "visualizations can help people to dicide to plan their events based on their demands!\n"
      ]
    },
    {
      "metadata": {
        "id": "n6mKjCZT5SNM",
        "colab_type": "text"
      },
      "cell_type": "markdown",
      "source": [
        "# 5. Discussion"
      ]
    },
    {
      "metadata": {
        "id": "IyhKdCCw5UpX",
        "colab_type": "text"
      },
      "cell_type": "markdown",
      "source": [
        "By using the tools of Data Science, the diverse perspetives of two cities are compared. For anyone who want to plan a event or meeting in New York and Toronto,  \n",
        "\n",
        "I can say that the New York City has more choices and venues that you can decide! The Clustering results confirm this arguments. Although two cities are very \n",
        "\n",
        "important for respetive countries, but in New York, the density and diversity of different Neighborhoods are much better than in Toronto. So I would recommand  \n",
        "\n",
        "you have schelude your event or meeting in New York City."
      ]
    },
    {
      "metadata": {
        "id": "Gmwh53es6aFt",
        "colab_type": "text"
      },
      "cell_type": "markdown",
      "source": [
        "# 6. Conclusion"
      ]
    },
    {
      "metadata": {
        "id": "QsFgLw2U6byO",
        "colab_type": "text"
      },
      "cell_type": "markdown",
      "source": [
        "It is quite clear that Data Science is very critical for the coming age. It requires programming skills and a very deep understanding of Math and statistics. Through  \n",
        "\n",
        "this project, I started from scratch to scape the useful information from web. The Python libraries provides extensive functions to clean, preprocessing these \n",
        "\n",
        "information into intuitive tabalur. The visualization helps us to better understand the dataset, which also allow us to use Machine Learning methods. \n",
        "\n",
        "To process the Machine Learning, we usally need to preprare our dataset into more reasonable forms. It helps us to extract useful information from large dataset  \n",
        "\n",
        "and we leverage from these decisions!"
      ]
    },
    {
      "metadata": {
        "id": "z4GQDiZj5PFb",
        "colab_type": "code",
        "colab": {}
      },
      "cell_type": "code",
      "source": [
        ""
      ],
      "execution_count": 0,
      "outputs": []
    }
  ]
}